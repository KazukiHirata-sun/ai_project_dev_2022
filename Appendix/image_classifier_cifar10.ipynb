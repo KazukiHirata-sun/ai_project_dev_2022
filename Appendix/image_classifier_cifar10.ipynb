{
  "nbformat": 4,
  "nbformat_minor": 0,
  "metadata": {
    "colab": {
      "name": "image_classifier_cifar10.ipynb",
      "provenance": [],
      "collapsed_sections": [],
      "authorship_tag": "ABX9TyMNgLXW2+rL4AkrnFwB5tdj",
      "include_colab_link": true
    },
    "kernelspec": {
      "name": "python3",
      "display_name": "Python 3"
    },
    "language_info": {
      "name": "python"
    },
    "accelerator": "GPU",
    "gpuClass": "standard",
    "widgets": {
      "application/vnd.jupyter.widget-state+json": {
        "3fe67d76a3d2445595cf2eaadf254997": {
          "model_module": "@jupyter-widgets/controls",
          "model_name": "HBoxModel",
          "model_module_version": "1.5.0",
          "state": {
            "_dom_classes": [],
            "_model_module": "@jupyter-widgets/controls",
            "_model_module_version": "1.5.0",
            "_model_name": "HBoxModel",
            "_view_count": null,
            "_view_module": "@jupyter-widgets/controls",
            "_view_module_version": "1.5.0",
            "_view_name": "HBoxView",
            "box_style": "",
            "children": [
              "IPY_MODEL_6db7b6146ece49ff8aa37e6cbc806149",
              "IPY_MODEL_7565decefa3d4bb79b0993187bd0aba8",
              "IPY_MODEL_441f795c833d4d4ab99f27e81078e709"
            ],
            "layout": "IPY_MODEL_007d19ba2952476aa96a364081701274"
          }
        },
        "6db7b6146ece49ff8aa37e6cbc806149": {
          "model_module": "@jupyter-widgets/controls",
          "model_name": "HTMLModel",
          "model_module_version": "1.5.0",
          "state": {
            "_dom_classes": [],
            "_model_module": "@jupyter-widgets/controls",
            "_model_module_version": "1.5.0",
            "_model_name": "HTMLModel",
            "_view_count": null,
            "_view_module": "@jupyter-widgets/controls",
            "_view_module_version": "1.5.0",
            "_view_name": "HTMLView",
            "description": "",
            "description_tooltip": null,
            "layout": "IPY_MODEL_6a7c053a4ed449818d7acff4784411c7",
            "placeholder": "​",
            "style": "IPY_MODEL_fd82706aff854b5fb42de163f5126df2",
            "value": "100%"
          }
        },
        "7565decefa3d4bb79b0993187bd0aba8": {
          "model_module": "@jupyter-widgets/controls",
          "model_name": "FloatProgressModel",
          "model_module_version": "1.5.0",
          "state": {
            "_dom_classes": [],
            "_model_module": "@jupyter-widgets/controls",
            "_model_module_version": "1.5.0",
            "_model_name": "FloatProgressModel",
            "_view_count": null,
            "_view_module": "@jupyter-widgets/controls",
            "_view_module_version": "1.5.0",
            "_view_name": "ProgressView",
            "bar_style": "success",
            "description": "",
            "description_tooltip": null,
            "layout": "IPY_MODEL_89585e8569bd44f985cb1b86350cc76b",
            "max": 170498071,
            "min": 0,
            "orientation": "horizontal",
            "style": "IPY_MODEL_d39a3451cf8b4f6282f0b6ebd30a8ce7",
            "value": 170498071
          }
        },
        "441f795c833d4d4ab99f27e81078e709": {
          "model_module": "@jupyter-widgets/controls",
          "model_name": "HTMLModel",
          "model_module_version": "1.5.0",
          "state": {
            "_dom_classes": [],
            "_model_module": "@jupyter-widgets/controls",
            "_model_module_version": "1.5.0",
            "_model_name": "HTMLModel",
            "_view_count": null,
            "_view_module": "@jupyter-widgets/controls",
            "_view_module_version": "1.5.0",
            "_view_name": "HTMLView",
            "description": "",
            "description_tooltip": null,
            "layout": "IPY_MODEL_41dd2a410f4f451b8e3279647121a044",
            "placeholder": "​",
            "style": "IPY_MODEL_a2a33e4775834b4383f35a9576cf6340",
            "value": " 170498071/170498071 [00:13&lt;00:00, 13544983.20it/s]"
          }
        },
        "007d19ba2952476aa96a364081701274": {
          "model_module": "@jupyter-widgets/base",
          "model_name": "LayoutModel",
          "model_module_version": "1.2.0",
          "state": {
            "_model_module": "@jupyter-widgets/base",
            "_model_module_version": "1.2.0",
            "_model_name": "LayoutModel",
            "_view_count": null,
            "_view_module": "@jupyter-widgets/base",
            "_view_module_version": "1.2.0",
            "_view_name": "LayoutView",
            "align_content": null,
            "align_items": null,
            "align_self": null,
            "border": null,
            "bottom": null,
            "display": null,
            "flex": null,
            "flex_flow": null,
            "grid_area": null,
            "grid_auto_columns": null,
            "grid_auto_flow": null,
            "grid_auto_rows": null,
            "grid_column": null,
            "grid_gap": null,
            "grid_row": null,
            "grid_template_areas": null,
            "grid_template_columns": null,
            "grid_template_rows": null,
            "height": null,
            "justify_content": null,
            "justify_items": null,
            "left": null,
            "margin": null,
            "max_height": null,
            "max_width": null,
            "min_height": null,
            "min_width": null,
            "object_fit": null,
            "object_position": null,
            "order": null,
            "overflow": null,
            "overflow_x": null,
            "overflow_y": null,
            "padding": null,
            "right": null,
            "top": null,
            "visibility": null,
            "width": null
          }
        },
        "6a7c053a4ed449818d7acff4784411c7": {
          "model_module": "@jupyter-widgets/base",
          "model_name": "LayoutModel",
          "model_module_version": "1.2.0",
          "state": {
            "_model_module": "@jupyter-widgets/base",
            "_model_module_version": "1.2.0",
            "_model_name": "LayoutModel",
            "_view_count": null,
            "_view_module": "@jupyter-widgets/base",
            "_view_module_version": "1.2.0",
            "_view_name": "LayoutView",
            "align_content": null,
            "align_items": null,
            "align_self": null,
            "border": null,
            "bottom": null,
            "display": null,
            "flex": null,
            "flex_flow": null,
            "grid_area": null,
            "grid_auto_columns": null,
            "grid_auto_flow": null,
            "grid_auto_rows": null,
            "grid_column": null,
            "grid_gap": null,
            "grid_row": null,
            "grid_template_areas": null,
            "grid_template_columns": null,
            "grid_template_rows": null,
            "height": null,
            "justify_content": null,
            "justify_items": null,
            "left": null,
            "margin": null,
            "max_height": null,
            "max_width": null,
            "min_height": null,
            "min_width": null,
            "object_fit": null,
            "object_position": null,
            "order": null,
            "overflow": null,
            "overflow_x": null,
            "overflow_y": null,
            "padding": null,
            "right": null,
            "top": null,
            "visibility": null,
            "width": null
          }
        },
        "fd82706aff854b5fb42de163f5126df2": {
          "model_module": "@jupyter-widgets/controls",
          "model_name": "DescriptionStyleModel",
          "model_module_version": "1.5.0",
          "state": {
            "_model_module": "@jupyter-widgets/controls",
            "_model_module_version": "1.5.0",
            "_model_name": "DescriptionStyleModel",
            "_view_count": null,
            "_view_module": "@jupyter-widgets/base",
            "_view_module_version": "1.2.0",
            "_view_name": "StyleView",
            "description_width": ""
          }
        },
        "89585e8569bd44f985cb1b86350cc76b": {
          "model_module": "@jupyter-widgets/base",
          "model_name": "LayoutModel",
          "model_module_version": "1.2.0",
          "state": {
            "_model_module": "@jupyter-widgets/base",
            "_model_module_version": "1.2.0",
            "_model_name": "LayoutModel",
            "_view_count": null,
            "_view_module": "@jupyter-widgets/base",
            "_view_module_version": "1.2.0",
            "_view_name": "LayoutView",
            "align_content": null,
            "align_items": null,
            "align_self": null,
            "border": null,
            "bottom": null,
            "display": null,
            "flex": null,
            "flex_flow": null,
            "grid_area": null,
            "grid_auto_columns": null,
            "grid_auto_flow": null,
            "grid_auto_rows": null,
            "grid_column": null,
            "grid_gap": null,
            "grid_row": null,
            "grid_template_areas": null,
            "grid_template_columns": null,
            "grid_template_rows": null,
            "height": null,
            "justify_content": null,
            "justify_items": null,
            "left": null,
            "margin": null,
            "max_height": null,
            "max_width": null,
            "min_height": null,
            "min_width": null,
            "object_fit": null,
            "object_position": null,
            "order": null,
            "overflow": null,
            "overflow_x": null,
            "overflow_y": null,
            "padding": null,
            "right": null,
            "top": null,
            "visibility": null,
            "width": null
          }
        },
        "d39a3451cf8b4f6282f0b6ebd30a8ce7": {
          "model_module": "@jupyter-widgets/controls",
          "model_name": "ProgressStyleModel",
          "model_module_version": "1.5.0",
          "state": {
            "_model_module": "@jupyter-widgets/controls",
            "_model_module_version": "1.5.0",
            "_model_name": "ProgressStyleModel",
            "_view_count": null,
            "_view_module": "@jupyter-widgets/base",
            "_view_module_version": "1.2.0",
            "_view_name": "StyleView",
            "bar_color": null,
            "description_width": ""
          }
        },
        "41dd2a410f4f451b8e3279647121a044": {
          "model_module": "@jupyter-widgets/base",
          "model_name": "LayoutModel",
          "model_module_version": "1.2.0",
          "state": {
            "_model_module": "@jupyter-widgets/base",
            "_model_module_version": "1.2.0",
            "_model_name": "LayoutModel",
            "_view_count": null,
            "_view_module": "@jupyter-widgets/base",
            "_view_module_version": "1.2.0",
            "_view_name": "LayoutView",
            "align_content": null,
            "align_items": null,
            "align_self": null,
            "border": null,
            "bottom": null,
            "display": null,
            "flex": null,
            "flex_flow": null,
            "grid_area": null,
            "grid_auto_columns": null,
            "grid_auto_flow": null,
            "grid_auto_rows": null,
            "grid_column": null,
            "grid_gap": null,
            "grid_row": null,
            "grid_template_areas": null,
            "grid_template_columns": null,
            "grid_template_rows": null,
            "height": null,
            "justify_content": null,
            "justify_items": null,
            "left": null,
            "margin": null,
            "max_height": null,
            "max_width": null,
            "min_height": null,
            "min_width": null,
            "object_fit": null,
            "object_position": null,
            "order": null,
            "overflow": null,
            "overflow_x": null,
            "overflow_y": null,
            "padding": null,
            "right": null,
            "top": null,
            "visibility": null,
            "width": null
          }
        },
        "a2a33e4775834b4383f35a9576cf6340": {
          "model_module": "@jupyter-widgets/controls",
          "model_name": "DescriptionStyleModel",
          "model_module_version": "1.5.0",
          "state": {
            "_model_module": "@jupyter-widgets/controls",
            "_model_module_version": "1.5.0",
            "_model_name": "DescriptionStyleModel",
            "_view_count": null,
            "_view_module": "@jupyter-widgets/base",
            "_view_module_version": "1.2.0",
            "_view_name": "StyleView",
            "description_width": ""
          }
        }
      }
    }
  },
  "cells": [
    {
      "cell_type": "markdown",
      "metadata": {
        "id": "view-in-github",
        "colab_type": "text"
      },
      "source": [
        "<a href=\"https://colab.research.google.com/github/KazukiHirata-sun/ai_project_dev_2022/blob/main/Appendix/image_classifier_cifar10.ipynb\" target=\"_parent\"><img src=\"https://colab.research.google.com/assets/colab-badge.svg\" alt=\"Open In Colab\"/></a>"
      ]
    },
    {
      "cell_type": "markdown",
      "source": [
        "# Model training and preservation\n",
        "Build and train a [CNN model](https://viblo.asia/p/deep-learning-tim-hieu-ve-mang-tich-chap-cnn-maGK73bOKj2) for [image identification](https://www.analyticsvidhya.com/blog/2020/02/learn-image-classification-cnn-convolutional-neural-networks-3-datasets/) at Google Colaboratory.  \n",
        "In this case, we will use [cifar-10](https://www.cs.toronto.edu/~kriz/cifar.html) as training data.  \n",
        "The trained model is saved and downloaded.\n",
        "\n",
        "[Refarence](https://pytorch.org/tutorials/beginner/blitz/cifar10_tutorial.html)"
      ],
      "metadata": {
        "id": "rsFx1jT2pFhf"
      }
    },
    {
      "cell_type": "markdown",
      "source": [
        "## Data Preprocessing\n",
        "Load CIFAR-10 and configure DataLoader settings along with data expansion.  "
      ],
      "metadata": {
        "id": "a6Fe5fLXpoeW"
      }
    },
    {
      "cell_type": "code",
      "execution_count": null,
      "metadata": {
        "colab": {
          "base_uri": "https://localhost:8080/",
          "height": 103,
          "referenced_widgets": [
            "3fe67d76a3d2445595cf2eaadf254997",
            "6db7b6146ece49ff8aa37e6cbc806149",
            "7565decefa3d4bb79b0993187bd0aba8",
            "441f795c833d4d4ab99f27e81078e709",
            "007d19ba2952476aa96a364081701274",
            "6a7c053a4ed449818d7acff4784411c7",
            "fd82706aff854b5fb42de163f5126df2",
            "89585e8569bd44f985cb1b86350cc76b",
            "d39a3451cf8b4f6282f0b6ebd30a8ce7",
            "41dd2a410f4f451b8e3279647121a044",
            "a2a33e4775834b4383f35a9576cf6340"
          ]
        },
        "id": "LlqygVNio7BI",
        "outputId": "d966f8f4-8891-42f5-df35-450a80803757"
      },
      "outputs": [
        {
          "output_type": "stream",
          "name": "stdout",
          "text": [
            "Downloading https://www.cs.toronto.edu/~kriz/cifar-10-python.tar.gz to ./data/cifar-10-python.tar.gz\n"
          ]
        },
        {
          "output_type": "display_data",
          "data": {
            "text/plain": [
              "  0%|          | 0/170498071 [00:00<?, ?it/s]"
            ],
            "application/vnd.jupyter.widget-view+json": {
              "version_major": 2,
              "version_minor": 0,
              "model_id": "3fe67d76a3d2445595cf2eaadf254997"
            }
          },
          "metadata": {}
        },
        {
          "output_type": "stream",
          "name": "stdout",
          "text": [
            "Extracting ./data/cifar-10-python.tar.gz to ./data\n",
            "Files already downloaded and verified\n"
          ]
        }
      ],
      "source": [
        "from torchvision.datasets import CIFAR10\n",
        "import torchvision.transforms as transforms\n",
        "from torch.utils.data import DataLoader\n",
        "\n",
        "affine = transforms.RandomAffine([-15, 15], scale=(0.8, 1.2))  # Rotate and Resize\n",
        "flip = transforms.RandomHorizontalFlip(p=0.5)  # right side flip\n",
        "normalize = transforms.Normalize((0.0, 0.0, 0.0), (1.0, 1.0, 1.0))  # Mean is 0, standard deviation is 1\n",
        "to_tensor = transforms.ToTensor()\n",
        "\n",
        "transform_train = transforms.Compose([affine, flip, to_tensor, normalize])\n",
        "transform_test = transforms.Compose([to_tensor, normalize])\n",
        "cifar10_train = CIFAR10(\"./data\", train=True, download=True, transform=transform_train)\n",
        "cifar10_test = CIFAR10(\"./data\", train=False, download=True, transform=transform_test)\n",
        "\n",
        "# DataLoader settings\n",
        "batch_size = 64\n",
        "train_loader = DataLoader(cifar10_train, batch_size=batch_size, shuffle=True)\n",
        "test_loader = DataLoader(cifar10_test, batch_size=len(cifar10_test), shuffle=False)"
      ]
    },
    {
      "cell_type": "markdown",
      "source": [
        "## Model Building\n",
        "Build a model of CNN as a class that inherits from the [nn.Module](https://pytorch.org/docs/stable/generated/torch.nn.Module.html) module."
      ],
      "metadata": {
        "id": "9byMWX5frQL-"
      }
    },
    {
      "cell_type": "code",
      "source": [
        "import torch.nn as nn\n",
        "import torch.nn.functional as F\n",
        "\n",
        "class Net(nn.Module):\n",
        "    def __init__(self):\n",
        "        super().__init__()\n",
        "        self.conv1 = nn.Conv2d(3, 6, 5)  # Convolutional layer: (number of input channels, number of filters, filter size)\n",
        "        self.pool = nn.MaxPool2d(2, 2)  # Pooling layer: (area size, stride)\n",
        "        self.conv2 = nn.Conv2d(6, 16, 5)\n",
        "        self.fc1 = nn.Linear(16*5*5, 256)  # Fully Connected layer\n",
        "        self.dropout = nn.Dropout(p=0.5)  # Dropout\n",
        "        self.fc2 = nn.Linear(256, 10)\n",
        "\n",
        "    def forward(self, x):\n",
        "        x = self.pool(F.relu(self.conv1(x)))\n",
        "        x = self.pool(F.relu(self.conv2(x)))\n",
        "        x = x.view(-1, 16*5*5)\n",
        "        x = F.relu(self.fc1(x))\n",
        "        x = self.dropout(x)\n",
        "        x = self.fc2(x)\n",
        "        return x\n",
        "\n",
        "net = Net()\n",
        "net.cuda()  # GPU\n",
        "print(net)"
      ],
      "metadata": {
        "colab": {
          "base_uri": "https://localhost:8080/"
        },
        "id": "p4VAa8UTpFFZ",
        "outputId": "4617ceb0-cbf8-46f7-c301-9493bff368e2"
      },
      "execution_count": null,
      "outputs": [
        {
          "output_type": "stream",
          "name": "stdout",
          "text": [
            "Net(\n",
            "  (conv1): Conv2d(3, 6, kernel_size=(5, 5), stride=(1, 1))\n",
            "  (pool): MaxPool2d(kernel_size=2, stride=2, padding=0, dilation=1, ceil_mode=False)\n",
            "  (conv2): Conv2d(6, 16, kernel_size=(5, 5), stride=(1, 1))\n",
            "  (fc1): Linear(in_features=400, out_features=256, bias=True)\n",
            "  (dropout): Dropout(p=0.5, inplace=False)\n",
            "  (fc2): Linear(in_features=256, out_features=10, bias=True)\n",
            ")\n"
          ]
        }
      ]
    },
    {
      "cell_type": "markdown",
      "source": [
        "## Learning\n",
        "Train the model.  \n",
        "Set the cross-entropy error as the [loss function](https://www.datarobot.com/blog/introduction-to-loss-functions/#:~:text=Further%20reading-,What's%20a%20loss%20function%3F,ll%20output%20a%20lower%20number.) and Adam as the [optimization algorithm](https://d2l.ai/chapter_optimization/index.html). \n",
        "Training takes time, so select GPU in Edit → Hardware Accelerator in Notebook Settings."
      ],
      "metadata": {
        "id": "oYpZJkCnsAbt"
      }
    },
    {
      "cell_type": "code",
      "source": [
        "from torch import optim\n",
        "\n",
        "# Cross Entropy\n",
        "loss_fnc = nn.CrossEntropyLoss()\n",
        "\n",
        "# Optimization Algorithm\n",
        "optimizer = optim.Adam(net.parameters())\n",
        "\n",
        "record_loss_train = []\n",
        "record_loss_test = []\n",
        "\n",
        "# Leaning\n",
        "x_test, t_test = iter(test_loader).next()\n",
        "x_test, t_test = x_test.cuda(), t_test.cuda()\n",
        "for i in range(60):  # 20 epoc\n",
        "    net.train()  # Train\n",
        "    loss_train = 0\n",
        "    for j, (x, t) in enumerate(train_loader):  # Mini Batch\n",
        "        x, t = x.cuda(), t.cuda()  # GPU\n",
        "        y = net(x)\n",
        "        loss = loss_fnc(y, t)\n",
        "        loss_train += loss.item()\n",
        "        optimizer.zero_grad()\n",
        "        loss.backward()\n",
        "        optimizer.step()\n",
        "    loss_train /= j+1\n",
        "    record_loss_train.append(loss_train)\n",
        "\n",
        "    net.eval()  # evalation \n",
        "    y_test = net(x_test)\n",
        "    loss_test = loss_fnc(y_test, t_test).item()\n",
        "    record_loss_test.append(loss_test)\n",
        "\n",
        "    if i%1 == 0:\n",
        "        print(\"Epoch:\", i, \"Loss_Train:\", loss_train, \"Loss_Test:\", loss_test)"
      ],
      "metadata": {
        "colab": {
          "base_uri": "https://localhost:8080/"
        },
        "id": "nVYfjfIvsLnY",
        "outputId": "7cccd07c-c6cd-411a-ec52-0c183b8dcab9"
      },
      "execution_count": null,
      "outputs": [
        {
          "output_type": "stream",
          "name": "stdout",
          "text": [
            "Epoch: 0 Loss_Train: 1.8178053952543938 Loss_Test: 1.513047695159912\n",
            "Epoch: 1 Loss_Train: 1.5625889141236424 Loss_Test: 1.426042079925537\n",
            "Epoch: 2 Loss_Train: 1.4822565387277042 Loss_Test: 1.4464085102081299\n",
            "Epoch: 3 Loss_Train: 1.441580539774102 Loss_Test: 1.297171950340271\n",
            "Epoch: 4 Loss_Train: 1.4031599371329597 Loss_Test: 1.3101367950439453\n",
            "Epoch: 5 Loss_Train: 1.3783907308755323 Loss_Test: 1.2612998485565186\n",
            "Epoch: 6 Loss_Train: 1.351784713356696 Loss_Test: 1.2241227626800537\n",
            "Epoch: 7 Loss_Train: 1.3313880937788494 Loss_Test: 1.207461953163147\n",
            "Epoch: 8 Loss_Train: 1.3218365366501577 Loss_Test: 1.188754916191101\n",
            "Epoch: 9 Loss_Train: 1.3085939118929226 Loss_Test: 1.1783608198165894\n",
            "Epoch: 10 Loss_Train: 1.294917230410954 Loss_Test: 1.1479718685150146\n",
            "Epoch: 11 Loss_Train: 1.2882193065512821 Loss_Test: 1.1549370288848877\n",
            "Epoch: 12 Loss_Train: 1.278530491968555 Loss_Test: 1.1513912677764893\n",
            "Epoch: 13 Loss_Train: 1.2641443352565132 Loss_Test: 1.1330662965774536\n",
            "Epoch: 14 Loss_Train: 1.2575332797549266 Loss_Test: 1.1181153059005737\n",
            "Epoch: 15 Loss_Train: 1.244812038929566 Loss_Test: 1.1056196689605713\n",
            "Epoch: 16 Loss_Train: 1.2438146108404144 Loss_Test: 1.0860271453857422\n",
            "Epoch: 17 Loss_Train: 1.2379919204413128 Loss_Test: 1.1461269855499268\n",
            "Epoch: 18 Loss_Train: 1.2279191145201778 Loss_Test: 1.103959083557129\n",
            "Epoch: 19 Loss_Train: 1.2362508658710343 Loss_Test: 1.1290194988250732\n",
            "Epoch: 20 Loss_Train: 1.2161400312810298 Loss_Test: 1.0736653804779053\n",
            "Epoch: 21 Loss_Train: 1.21180359131235 Loss_Test: 1.0689972639083862\n",
            "Epoch: 22 Loss_Train: 1.21208233914107 Loss_Test: 1.0575408935546875\n",
            "Epoch: 23 Loss_Train: 1.2013706308801462 Loss_Test: 1.0473898649215698\n",
            "Epoch: 24 Loss_Train: 1.1987604242761423 Loss_Test: 1.053001880645752\n",
            "Epoch: 25 Loss_Train: 1.1964176172185736 Loss_Test: 1.0780107975006104\n",
            "Epoch: 26 Loss_Train: 1.1973490824022561 Loss_Test: 1.0443804264068604\n",
            "Epoch: 27 Loss_Train: 1.1903574308166114 Loss_Test: 1.0332032442092896\n",
            "Epoch: 28 Loss_Train: 1.1818109617361328 Loss_Test: 1.0602859258651733\n",
            "Epoch: 29 Loss_Train: 1.1809096388957079 Loss_Test: 1.0249701738357544\n",
            "Epoch: 30 Loss_Train: 1.1758542961781593 Loss_Test: 1.040209174156189\n",
            "Epoch: 31 Loss_Train: 1.17594370588927 Loss_Test: 1.0427321195602417\n",
            "Epoch: 32 Loss_Train: 1.169234668659737 Loss_Test: 1.0169745683670044\n",
            "Epoch: 33 Loss_Train: 1.16477676479103 Loss_Test: 1.031455397605896\n",
            "Epoch: 34 Loss_Train: 1.1679208090390696 Loss_Test: 1.0425480604171753\n",
            "Epoch: 35 Loss_Train: 1.167537272967341 Loss_Test: 1.0030494928359985\n",
            "Epoch: 36 Loss_Train: 1.157861903881478 Loss_Test: 1.019217610359192\n",
            "Epoch: 37 Loss_Train: 1.159438443686956 Loss_Test: 1.00105619430542\n",
            "Epoch: 38 Loss_Train: 1.148979682980291 Loss_Test: 1.0323820114135742\n",
            "Epoch: 39 Loss_Train: 1.1492824443923237 Loss_Test: 1.0048861503601074\n",
            "Epoch: 40 Loss_Train: 1.1564537190720248 Loss_Test: 1.0198585987091064\n",
            "Epoch: 41 Loss_Train: 1.1436374761411905 Loss_Test: 0.9971102476119995\n",
            "Epoch: 42 Loss_Train: 1.1490014678681904 Loss_Test: 0.9875726699829102\n",
            "Epoch: 43 Loss_Train: 1.140167641289094 Loss_Test: 1.0870827436447144\n",
            "Epoch: 44 Loss_Train: 1.1362187111240518 Loss_Test: 0.9852315187454224\n",
            "Epoch: 45 Loss_Train: 1.1334901098400125 Loss_Test: 1.0331114530563354\n",
            "Epoch: 46 Loss_Train: 1.139035355023411 Loss_Test: 0.9740386009216309\n",
            "Epoch: 47 Loss_Train: 1.1352287159703882 Loss_Test: 0.9986960887908936\n",
            "Epoch: 48 Loss_Train: 1.1267520055898925 Loss_Test: 0.9702323079109192\n",
            "Epoch: 49 Loss_Train: 1.1252050908172833 Loss_Test: 0.9886840581893921\n",
            "Epoch: 50 Loss_Train: 1.1272495768564132 Loss_Test: 0.9643677473068237\n",
            "Epoch: 51 Loss_Train: 1.1282214048268544 Loss_Test: 0.9742751121520996\n",
            "Epoch: 52 Loss_Train: 1.119303098420048 Loss_Test: 0.9888229370117188\n",
            "Epoch: 53 Loss_Train: 1.122192066038966 Loss_Test: 0.9575071334838867\n",
            "Epoch: 54 Loss_Train: 1.11867798129311 Loss_Test: 0.9853149652481079\n",
            "Epoch: 55 Loss_Train: 1.1202361126385076 Loss_Test: 0.9680031538009644\n",
            "Epoch: 56 Loss_Train: 1.117316973102672 Loss_Test: 0.9716073274612427\n",
            "Epoch: 57 Loss_Train: 1.116911399013856 Loss_Test: 0.9543285369873047\n",
            "Epoch: 58 Loss_Train: 1.1094936650351186 Loss_Test: 0.9585447311401367\n",
            "Epoch: 59 Loss_Train: 1.105158898302966 Loss_Test: 0.9568477272987366\n"
          ]
        }
      ]
    },
    {
      "cell_type": "markdown",
      "source": [
        "## Error Trends\n",
        "Displays graphs of error trends in training and test data.\n",
        "\n",
        "[Refarence](https://matplotlib.org/) "
      ],
      "metadata": {
        "id": "BZ6qMiR4t7Uy"
      }
    },
    {
      "cell_type": "code",
      "source": [
        "import matplotlib.pyplot as plt\n",
        "\n",
        "plt.plot(range(len(record_loss_train)), record_loss_train, label=\"Train\")\n",
        "plt.plot(range(len(record_loss_test)), record_loss_test, label=\"Test\")\n",
        "plt.legend()\n",
        "\n",
        "plt.xlabel(\"Epochs\")\n",
        "plt.ylabel(\"Error\")\n",
        "plt.show()"
      ],
      "metadata": {
        "colab": {
          "base_uri": "https://localhost:8080/"
        },
        "id": "Jkzo38JduB_S",
        "outputId": "e9d64533-0e64-4640-b8fd-0da314f2251f"
      },
      "execution_count": null,
      "outputs": [
        {
          "output_type": "display_data",
          "data": {
            "text/plain": [
              "<Figure size 432x288 with 1 Axes>"
            ],
            "image/png": "[encoded data removed]"
          },
          "metadata": {
            "needs_background": "light"
          }
        }
      ]
    },
    {
      "cell_type": "markdown",
      "source": [
        "## Accuracy\n",
        "To understand the performance of the model, we measure the percentage of correct answers using test data."
      ],
      "metadata": {
        "id": "uQOFO2KaubyB"
      }
    },
    {
      "cell_type": "code",
      "source": [
        "correct = 0\n",
        "total = 0\n",
        "net.eval()  # Evaluation\n",
        "for i, (x, t) in enumerate(test_loader):\n",
        "    x, t = x.cuda(), t.cuda()  # GPU\n",
        "    y = net(x)\n",
        "    correct += (y.argmax(1) == t).sum().item()\n",
        "    total += len(x)\n",
        "print(\"Accuracy:\", str(correct/total*100) + \"%\")"
      ],
      "metadata": {
        "colab": {
          "base_uri": "https://localhost:8080/"
        },
        "id": "koU67E_LuuFv",
        "outputId": "3eed107d-19d9-48df-d0a7-c9ad55915f52"
      },
      "execution_count": null,
      "outputs": [
        {
          "output_type": "stream",
          "name": "stdout",
          "text": [
            "Accuracy: 66.67%\n"
          ]
        }
      ]
    },
    {
      "cell_type": "markdown",
      "source": [
        "## Save model\n",
        "Save the parameters of the trained model.    \n",
        "Each parameter of the model can be obtained by `state_dict()`, so save it."
      ],
      "metadata": {
        "id": "P-_DM5hxzG-M"
      }
    },
    {
      "cell_type": "code",
      "source": [
        "import torch\n",
        "\n",
        "for key in net.state_dict():\n",
        "    print(key, \": \", net.state_dict()[key].size())\n",
        "print(net.state_dict()[\"conv1.weight\"][0]) \n",
        "\n",
        "# Save Model\n",
        "torch.save(net.state_dict(), \"model_cnn.pth\")  "
      ],
      "metadata": {
        "colab": {
          "base_uri": "https://localhost:8080/"
        },
        "id": "vKe7fCiAu9UD",
        "outputId": "357f94d6-e6e0-4732-d3c7-3ccea3bdf7d5"
      },
      "execution_count": null,
      "outputs": [
        {
          "output_type": "stream",
          "name": "stdout",
          "text": [
            "conv1.weight :  torch.Size([6, 3, 5, 5])\n",
            "conv1.bias :  torch.Size([6])\n",
            "conv2.weight :  torch.Size([16, 6, 5, 5])\n",
            "conv2.bias :  torch.Size([16])\n",
            "fc1.weight :  torch.Size([256, 400])\n",
            "fc1.bias :  torch.Size([256])\n",
            "fc2.weight :  torch.Size([10, 256])\n",
            "fc2.bias :  torch.Size([10])\n",
            "tensor([[[-0.1136, -0.0908, -0.0499, -0.0933, -0.1454],\n",
            "         [-0.0551,  0.0252, -0.0822,  0.0250, -0.0669],\n",
            "         [-0.0651,  0.0495, -0.0833,  0.0535, -0.0105],\n",
            "         [-0.2433,  0.2115,  0.0122,  0.0257,  0.1613],\n",
            "         [-0.2925, -0.0237,  0.1146,  0.1092,  0.1164]],\n",
            "\n",
            "        [[ 0.1126,  0.1740,  0.1844,  0.1054,  0.2450],\n",
            "         [ 0.0551,  0.0716,  0.1097,  0.1131,  0.0729],\n",
            "         [ 0.1398,  0.1800,  0.1102,  0.1274,  0.2823],\n",
            "         [ 0.0565,  0.1218,  0.1232,  0.0533, -0.0290],\n",
            "         [-0.1140,  0.0026,  0.1542,  0.0902, -0.0584]],\n",
            "\n",
            "        [[-0.0688, -0.1278, -0.1021, -0.0097, -0.1660],\n",
            "         [ 0.0231, -0.0810, -0.0695, -0.0888,  0.0222],\n",
            "         [ 0.0044, -0.1138, -0.2644, -0.0748, -0.1575],\n",
            "         [ 0.0326, -0.0058, -0.1528, -0.2634, -0.0272],\n",
            "         [ 0.0694, -0.0536,  0.0674, -0.2128, -0.0922]]], device='cuda:0')\n"
          ]
        }
      ]
    }
  ]
}