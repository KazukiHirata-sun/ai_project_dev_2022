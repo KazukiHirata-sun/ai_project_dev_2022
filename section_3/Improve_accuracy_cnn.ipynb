{
  "nbformat": 4,
  "nbformat_minor": 0,
  "metadata": {
    "colab": {
      "provenance": [],
      "collapsed_sections": [],
      "toc_visible": true,
      "authorship_tag": "ABX9TyP77YcmHOHrWcgCvFhXOS69",
      "include_colab_link": true
    },
    "kernelspec": {
      "name": "python3",
      "display_name": "Python 3"
    },
    "language_info": {
      "name": "python"
    },
    "accelerator": "GPU",
    "gpuClass": "standard"
  },
  "cells": [
    {
      "cell_type": "markdown",
      "metadata": {
        "id": "view-in-github",
        "colab_type": "text"
      },
      "source": [
        "<a href=\"https://colab.research.google.com/github/KazukiHirata-sun/ai_project_dev_2022/blob/main/section_3/Improve_accuracy_cnn.ipynb\" target=\"_parent\"><img src=\"https://colab.research.google.com/assets/colab-badge.svg\" alt=\"Open In Colab\"/></a>"
      ]
    },
    {
      "cell_type": "markdown",
      "source": [
        "# Improve the Accuracy of Our CNN\n",
        "Eexperiment with the CIFAR-10 presented in the Appendix to see what means are available to improve the accuracy of the CNN."
      ],
      "metadata": {
        "id": "rsFx1jT2pFhf"
      }
    },
    {
      "cell_type": "markdown",
      "source": [
        "## Installation of required library\n",
        "The following is a description of the main libraly imported this time.\n",
        "\n",
        "`torch.nn` : Contains modules used to build neural networks.\n",
        "\n",
        "`torchvision.transforms `: Contains modules used to preprocess data.\n",
        "\n",
        "`torch.utils.data` : Contains modules that define how to handle data.\n",
        "\n",
        "`torch.optim` : Contains modules related to optimization functions.\n",
        "\n",
        "`matplotlib.pyplot` : Contains modules for drawing graphs and images.\n",
        "\n",
        "`numpy` : Contains modules for handling matrix operations in Python.\n",
        "\n",
        "`seaborn` : data visualization library based on matplotlib"
      ],
      "metadata": {
        "id": "5pFd4qshukJy"
      }
    },
    {
      "cell_type": "code",
      "source": [
        "import os\n",
        "import random\n",
        "\n",
        "import numpy as np\n",
        "\n",
        "import torch\n",
        "import torch.nn as nn\n",
        "import torch.nn.functional as F\n",
        "import torchvision.transforms as transforms\n",
        "\n",
        "from torch import optim\n",
        "from torch.utils.data import DataLoader\n",
        "from torch.utils.data.dataset import Subset\n",
        "from torchvision.datasets import CIFAR10\n",
        "from torchvision import models\n",
        "\n",
        "import matplotlib.pyplot as plt\n",
        "\n",
        "from sklearn.metrics import accuracy_score\n",
        "from sklearn.metrics import confusion_matrix\n",
        "import seaborn as sns"
      ],
      "metadata": {
        "id": "2qOSCQzT4uwu"
      },
      "execution_count": 2,
      "outputs": []
    },
    {
      "cell_type": "markdown",
      "source": [
        "## Fixed seeds and reproducible results\n",
        "While building and evaluating neural network based models, we can find that the results can be sensitive to the seed values used.\n",
        "\n",
        "This becomes a problem when you have multiple components in your model and you are trying to analyze the effects of adding or deleting those components in your final model. \n",
        "\n",
        "For a fair comparison, one needs to make sure that the performance difference that one observes by adding or deleting these components is not influenced by the changes in the seed values.\n",
        "\n",
        "[Reference](https://pytorch.org/docs/stable/notes/randomness.html)"
      ],
      "metadata": {
        "id": "1XnlfjxOwA-O"
      }
    },
    {
      "cell_type": "code",
      "source": [
        "# Setup random seed\n",
        "def set_seed_everything(seed: int):\n",
        "    random.seed(seed)\n",
        "    os.environ[\"PYTHONHASHSEED\"] = str(seed)\n",
        "    np.random.seed(seed)\n",
        "    torch.manual_seed(seed)\n",
        "    torch.cuda.manual_seed(seed)\n",
        "    torch.cuda.manual_seed_all(seed)\n",
        "    torch.backends.cudnn.deterministic = True\n",
        "    torch.backends.cudnn.benchmark = True\n",
        "\n",
        "set_seed_everything(2022)"
      ],
      "metadata": {
        "id": "5I09p2WDWUI8"
      },
      "execution_count": 3,
      "outputs": []
    },
    {
      "cell_type": "markdown",
      "source": [
        "## Setting Hyperparameters\n",
        "Before implementation, hyperparameters should be set"
      ],
      "metadata": {
        "id": "Veqfu-wJDose"
      }
    },
    {
      "cell_type": "code",
      "source": [
        "BATCH_SIZE = 64\n",
        "TRAIN_RATIO = 0.8\n",
        "EPOCHS = 20\n",
        "DEVICE = 'cuda' if torch.cuda.is_available() else 'cpu'"
      ],
      "metadata": {
        "id": "rUQ0Nsr24INC"
      },
      "execution_count": 52,
      "outputs": []
    },
    {
      "cell_type": "markdown",
      "source": [
        "## Data Preprocessing\n",
        "Before training the model, let's understand the image data and labels in the [CIFAR-10](https://www.cs.toronto.edu/~kriz/cifar.html) dataset."
      ],
      "metadata": {
        "id": "a6Fe5fLXpoeW"
      }
    },
    {
      "cell_type": "markdown",
      "source": [
        "### Understanding data\n"
      ],
      "metadata": {
        "id": "MwGh7DreLjfa"
      }
    },
    {
      "cell_type": "markdown",
      "source": [
        "The labels are as follows\n",
        "\n",
        "* Label \"0\": airplane\n",
        "* Label \"1\": automobile\n",
        "* Label \"2\": bird\n",
        "* Label \"3\": cat\n",
        "* Label \"4\": deer\n",
        "* Label \"5\": dog\n",
        "* Label \"6\": frog\n",
        "* Label \"7\": horse\n",
        "* Label \"8\": ship\n",
        "* Label \"9\": truck\n"
      ],
      "metadata": {
        "id": "ZceQoko7FZIW"
      }
    },
    {
      "cell_type": "code",
      "source": [
        "labels = [\"Airplane\", \"Automobile\", \"bird\", \"cat\", \"deer\", \"dog\", \"frog\", \"horse\", \"ship\", \"truck\"]"
      ],
      "metadata": {
        "id": "I6gbOjGXT9NY"
      },
      "execution_count": 5,
      "outputs": []
    },
    {
      "cell_type": "code",
      "source": [
        "# Show Image function\n",
        "def imshow(data_loader):\n",
        "  data,label = iter(data_loader).next()\n",
        "  fig = plt.figure(figsize = (10,4))\n",
        "  for i in range(1,11):\n",
        "    ax = fig.add_subplot(2,5,i)\n",
        "    ax.axis(\"off\")\n",
        "    ax.set_title(labels[label[i].numpy()])\n",
        "    ax.imshow(data[i].permute(1,2,0))"
      ],
      "metadata": {
        "id": "0yoYPwJA5Ve7"
      },
      "execution_count": 6,
      "outputs": []
    },
    {
      "cell_type": "code",
      "source": [
        "train_data = CIFAR10('./data', \n",
        "                              train = True,  \n",
        "                              download=True,  \n",
        "                              transform = transforms.Compose([transforms.ToTensor()]) \n",
        "                              )\n",
        "train_loader = DataLoader(train_data,batch_size=BATCH_SIZE)\n",
        "imshow(train_loader)"
      ],
      "metadata": {
        "id": "IRMQyFoX4hU0"
      },
      "execution_count": null,
      "outputs": []
    },
    {
      "cell_type": "markdown",
      "source": [
        "### Data Augmentation\n",
        "[Data Augmentation](https://nanonets.com/blog/data-augmentation-how-to-use-deep-learning-when-you-have-limited-data-part-2/) is a method of enlarging data by \"transforming\" the image data for training. \n",
        "\n",
        "There are various types of data augmentation.\n",
        "\n",
        "Data Augmentation is effective for \"enlarging the data\" and \"against [overtraining](https://vortarus.com/machine-learning-overtraining/)\".\n",
        "\n",
        "Image recognition technology using CNN sometimes requires a large amount of data for training. \n",
        "\n",
        "However, depending on the data, it may not be possible to prepare the required number of data. \n",
        "\n",
        "Data Augmentation is necessary to enable learning even with a small number of data.\n",
        "\n",
        "[Reference](https://pytorch.org/vision/main/auto_examples/plot_transforms.html#sphx-glr-auto-examples-plot-transforms-py) "
      ],
      "metadata": {
        "id": "Lj5rZ1hPJOQu"
      }
    },
    {
      "cell_type": "code",
      "source": [
        "# Rotate and Resize\n",
        "affine = transforms.RandomAffine([-15, 15], scale=(0.8, 1.2)) \n",
        "# Errase\n",
        "erasing = transforms.RandomErasing(p=0.5)\n",
        "normalize = transforms.Normalize((0.0, 0.0, 0.0), (1.0, 1.0, 1.0))  # Mean is 0, standard deviation is 1\n",
        "to_tensor = transforms.ToTensor()\n",
        "\n",
        "train_data = CIFAR10('./data', \n",
        "                              train = True,  \n",
        "                              download=True,  \n",
        "                              transform = transforms.Compose([affine, to_tensor, normalize]),\n",
        "                              # transform = transforms.Compose([to_tensor, erasing,normalize]),\n",
        "                              # transform = transforms.Compose([affine, to_tensor, erasing, normalize]),\n",
        "                              )\n",
        "train_loader = DataLoader(train_data,batch_size=BATCH_SIZE)\n",
        "imshow(train_loader)"
      ],
      "metadata": {
        "colab": {
          "base_uri": "https://localhost:8080/",
          "height": 279
        },
        "id": "WHi_VmNTMjZo",
        "outputId": "251545fa-728a-4397-cb2b-53d9f5916458"
      },
      "execution_count": 8,
      "outputs": [
        {
          "output_type": "stream",
          "name": "stdout",
          "text": [
            "Files already downloaded and verified\n"
          ]
        },
        {
          "output_type": "display_data",
          "data": {
            "text/plain": [
              "<Figure size 720x288 with 10 Axes>"
            ],
            "image/png": "[encoded data removed]"
          },
          "metadata": {
            "needs_background": "light"
          }
        }
      ]
    },
    {
      "cell_type": "code",
      "execution_count": 60,
      "metadata": {
        "colab": {
          "base_uri": "https://localhost:8080/",
          "height": 297
        },
        "id": "LlqygVNio7BI",
        "outputId": "2f1732c1-3cee-48ed-8a57-95f6d391c858"
      },
      "outputs": [
        {
          "output_type": "stream",
          "name": "stdout",
          "text": [
            "Files already downloaded and verified\n",
            "Files already downloaded and verified\n"
          ]
        },
        {
          "output_type": "display_data",
          "data": {
            "text/plain": [
              "<Figure size 720x288 with 10 Axes>"
            ],
            "image/png": "[encoded data removed]"
          },
          "metadata": {
            "needs_background": "light"
          }
        }
      ],
      "source": [
        "# Auto Augment\n",
        "autoAug = transforms.AutoAugment(policy=transforms.AutoAugmentPolicy.CIFAR10)\n",
        "normalize = transforms.Normalize((0.0, 0.0, 0.0), (1.0, 1.0, 1.0))  # Mean is 0, standard deviation is 1\n",
        "to_tensor = transforms.ToTensor()\n",
        "\n",
        "transform_train = transforms.Compose([to_tensor, normalize])\n",
        "# transform_train = transforms.Compose([autoAug, to_tensor, normalize])\n",
        "transform_test = transforms.Compose([to_tensor, normalize])\n",
        "\n",
        "cifar10_date = CIFAR10(\"./data\", train=True, download=True, transform=transform_train)\n",
        "cifar10_test = CIFAR10(\"./data\", train=False, download=True, transform=transform_test)\n",
        "\n",
        "data_len = len(cifar10_date)\n",
        "train_len = int(data_len * TRAIN_RATIO)\n",
        "cifar10_train = Subset(cifar10_date, [i for i in range(0, train_len)])\n",
        "cifar10_val = Subset(cifar10_date, [i for i in range(train_len, data_len)])\n",
        "\n",
        "# DataLoader settings\n",
        "train_loader = DataLoader(cifar10_train, batch_size=BATCH_SIZE, shuffle=True)\n",
        "val_loader = DataLoader(cifar10_val, batch_size=BATCH_SIZE, shuffle=True)\n",
        "test_loader = DataLoader(cifar10_test, batch_size=len(cifar10_test), shuffle=False)\n",
        "\n",
        "imshow(train_loader)"
      ]
    },
    {
      "cell_type": "markdown",
      "source": [
        "## Model Building\n",
        "In Deep Learning, a Convolutional Neural Network(CNN) is a class of deep neural networks, most commonly applied to analyzing visual imagery. \n",
        "\n",
        "CNN are state of the art models for Image Classification, Segmentation, Object Detection and many other image processing tasks. \n",
        "\n",
        "In order to improve the prediction accuracy, even now, research continues on new architectures based on CNN.\n",
        "By mimicking or using some of them, our models can be improved in accuracy."
      ],
      "metadata": {
        "id": "9byMWX5frQL-"
      }
    },
    {
      "cell_type": "markdown",
      "source": [
        "### Simple CNN\n",
        "This is a simple architecture for understanding CNNs introduced in the Appendix."
      ],
      "metadata": {
        "id": "oEyafnYIcnP_"
      }
    },
    {
      "cell_type": "code",
      "source": [
        "class Net(nn.Module):\n",
        "    def __init__(self):\n",
        "        super().__init__()\n",
        "        self.conv1 = nn.Conv2d(3, 6, 5)  # Convolutional layer: (number of input channels, number of filters, filter size)\n",
        "        self.pool = nn.MaxPool2d(2, 2)  # Pooling layer: (area size, stride)\n",
        "        self.conv2 = nn.Conv2d(6, 16, 5)\n",
        "        self.fc1 = nn.Linear(16*5*5, 256)  # Fully Connected layer\n",
        "        self.dropout = nn.Dropout(p=0.5)  # Dropout\n",
        "        self.fc2 = nn.Linear(256, 10)\n",
        "\n",
        "    def forward(self, x):\n",
        "        x = self.pool(F.relu(self.conv1(x)))\n",
        "        x = self.pool(F.relu(self.conv2(x)))\n",
        "        x = x.view(-1, 16*5*5)\n",
        "        x = F.relu(self.fc1(x))\n",
        "        x = self.dropout(x)\n",
        "        x = self.fc2(x)\n",
        "        return x\n"
      ],
      "metadata": {
        "id": "TNMdbT1x8pBA"
      },
      "execution_count": 10,
      "outputs": []
    },
    {
      "cell_type": "markdown",
      "source": [
        "### LeNet\n",
        "[LeNet](http://d2l.ai/chapter_convolutional-neural-networks/lenet.html) is the first convolutional network invented in 1998.\n",
        "\n",
        "Its structure is characterized by a set of convolutional layers and pooling layers repeated twice. Although the layers are shallower and simpler than those developed in recent years, it can achieve an accuracy of over 99% for [MNIST handwritten character images](https://www.milindsoorya.com/blog/handwritten-digits-classification) ."
      ],
      "metadata": {
        "id": "28I4CjQTdDV3"
      }
    },
    {
      "cell_type": "code",
      "source": [
        "class LeNet(nn.Module):\n",
        "    def __init__(self):\n",
        "        super().__init__()\n",
        "        self.conv1 = nn.Conv2d(3, 6, 5) \n",
        "        self.pool = nn.MaxPool2d(2, 2)\n",
        "        self.conv2 = nn.Conv2d(6, 16, 5)\n",
        "        self.dropout_1 = nn.Dropout(0.5) \n",
        "        self.fc1 = nn.Linear(16 * 5 * 5, 120)\n",
        "        self.dropout_2 = nn.Dropout(0.5) \n",
        "        self.fc2 = nn.Linear(120, 84)\n",
        "        self.dropout_3 = nn.Dropout(0.5) \n",
        "        self.fc3 = nn.Linear(84, 10)\n",
        "\n",
        "    def forward(self, x):\n",
        "        x = self.pool(F.relu(self.conv1(x)))\n",
        "        x = self.pool(F.relu(self.conv2(x)))\n",
        "        x = torch.flatten(x, 1) \n",
        "        x = self.dropout_1(x) \n",
        "        x = F.relu(self.fc1(x))\n",
        "        x = self.dropout_2(x) \n",
        "        x = F.relu(self.fc2(x))\n",
        "        x = self.dropout_3(x) \n",
        "        x = self.fc3(x)\n",
        "        return x"
      ],
      "metadata": {
        "id": "SP4W_we2ASSN"
      },
      "execution_count": 11,
      "outputs": []
    },
    {
      "cell_type": "markdown",
      "source": [
        "### ResNet\n",
        "[Residual Network (ResNet)](https://viblo.asia/p/gioi-thieu-mang-resnet-vyDZOa7R5wj) archtecture is one of the popular and most successful deep learning models.\n",
        "\n",
        "However, it is difficult to assemble this complex architecture by ourselves. \n",
        "\n",
        "[torchvision](https://pytorch.org/vision/stable/models.html) has a large number of pre-trained models that can be used to create a highly accurate architecture with a small amount of code."
      ],
      "metadata": {
        "id": "4gJEHRJdiXq6"
      }
    },
    {
      "cell_type": "code",
      "source": [
        "model_ft = models.resnet34(pretrained=True)\n",
        "print(model_ft)"
      ],
      "metadata": {
        "id": "p4VAa8UTpFFZ"
      },
      "execution_count": null,
      "outputs": []
    },
    {
      "cell_type": "code",
      "source": [
        "# # simple CNN\n",
        "# net = Net()\n",
        "\n",
        "# LeNet\n",
        "# net = LeNet()\n",
        "\n",
        "# ResNet\n",
        "net = models.resnet34(pretrained=True)\n",
        "net.fc = nn.Linear(net.fc.in_features, 10)\n",
        "\n",
        "net = net.to(DEVICE)\n",
        "print(net)"
      ],
      "metadata": {
        "id": "shNX8D-NdAal"
      },
      "execution_count": null,
      "outputs": []
    },
    {
      "cell_type": "markdown",
      "source": [
        "## Learning\n",
        "Train the model.  \n",
        "Set the cross-entropy error as the [loss function](https://www.datarobot.com/blog/introduction-to-loss-functions/#:~:text=Further%20reading-,What's%20a%20loss%20function%3F,ll%20output%20a%20lower%20number.) and Adam as the [optimization algorithm](https://d2l.ai/chapter_optimization/index.html). "
      ],
      "metadata": {
        "id": "oYpZJkCnsAbt"
      }
    },
    {
      "cell_type": "code",
      "source": [
        "# Cross Entropy\n",
        "loss_fnc = nn.CrossEntropyLoss()\n",
        "\n",
        "# Optimization Algorithm\n",
        "optimizer = optim.Adam(net.parameters())\n",
        "\n",
        "record_loss_train = []\n",
        "record_loss_val = []\n",
        "record_acc_train = []\n",
        "record_acc_val = []\n",
        "\n",
        "# Leaning\n",
        "for i in range(EPOCHS): \n",
        "    # Train\n",
        "    net.train()\n",
        "    loss_train = 0.0\n",
        "    acc_train = 0.0\n",
        "\n",
        "    label_list_train = []\n",
        "    pred_list_train = []\n",
        "\n",
        "    for j, (data, label) in enumerate(train_loader):  # Mini Batch\n",
        "        data, label = data.to(DEVICE), label.to(DEVICE)\n",
        "        optimizer.zero_grad()\n",
        "        output = net(data)\n",
        "        loss = loss_fnc(output, label)\n",
        "        loss_train += loss.item()\n",
        "        label_list_train += label.cpu().numpy().tolist()\n",
        "        pred_list_train += torch.argmax(output,axis = 1).cpu().numpy().tolist()\n",
        "        loss.backward()\n",
        "        optimizer.step()\n",
        "\n",
        "    loss_train /= j+1\n",
        "    record_loss_train.append(loss_train)\n",
        "    acc_train = accuracy_score(label_list_train, pred_list_train)\n",
        "    record_acc_train.append(acc_train)\n",
        "\n",
        "    # evalation \n",
        "    net.eval()  \n",
        "    loss_val = 0.0\n",
        "    acc_val = 0.0\n",
        "    \n",
        "    label_list_val = []\n",
        "    pred_list_val = []\n",
        "\n",
        "    with torch.no_grad():\n",
        "      for j, (data_val, label_val) in enumerate(val_loader):\n",
        "        data_val, label_val = data_val.to(DEVICE), label_val.to(DEVICE)\n",
        "        output_val = net(data_val)\n",
        "        loss = loss_fnc(output_val, label_val)\n",
        "        loss_val += loss.item()\n",
        "        label_list_val += label_val.cpu().numpy().tolist()\n",
        "        pred_list_val += torch.argmax(output_val,axis = 1).cpu().numpy().tolist()\n",
        "\n",
        "    loss_val /= j+1\n",
        "    record_loss_val.append(loss_val)\n",
        "    acc_val = accuracy_score(label_list_val, pred_list_val)\n",
        "    record_acc_val.append(acc_val)\n",
        "\n",
        "    if i%1 == 0:\n",
        "        print (\"[Epoch:\", i,\"]\")\n",
        "        print(\" Loss_Train:\", loss_train, \"Loss_Test:\", loss_val)\n",
        "        print(\" Acc_Train:\", acc_train, \"Acc_Test:\", acc_val)"
      ],
      "metadata": {
        "id": "nVYfjfIvsLnY"
      },
      "execution_count": null,
      "outputs": []
    },
    {
      "cell_type": "markdown",
      "source": [
        "## Accuracy Assessment \n",
        "Using the model we created, try to evaluate its accuracy from various perspectives."
      ],
      "metadata": {
        "id": "C-cW4ZIGyhDx"
      }
    },
    {
      "cell_type": "markdown",
      "source": [
        "### Visualization of training progress\n",
        "Displays graphs of training progress in training and test data.\n",
        "\n",
        "[Refarence](https://matplotlib.org/) "
      ],
      "metadata": {
        "id": "BZ6qMiR4t7Uy"
      }
    },
    {
      "cell_type": "code",
      "source": [
        "fig = plt.figure(figsize = (20,10))\n",
        "ax = fig.add_subplot(1, 2, 1)\n",
        "ax.plot(range(len(record_loss_train)), record_loss_train, label=\"Train\")\n",
        "ax.plot(range(len(record_loss_val)), record_loss_val, label=\"Validation\")\n",
        "\n",
        "ax.set_xlabel(\"Epochs\")\n",
        "ax.set_ylabel(\"Error\")\n",
        "\n",
        "ax.legend()\n",
        "\n",
        "ax = fig.add_subplot(1, 2, 2)\n",
        "\n",
        "ax.plot(range(len(record_acc_train)), record_acc_train, label=\"Train\")\n",
        "ax.plot(range(len(record_acc_val)), record_acc_val, label=\"Validation\")\n",
        "\n",
        "ax.set_xlabel(\"Epochs\")\n",
        "ax.set_ylabel(\"Accuracy\")\n",
        "\n",
        "ax.legend()\n",
        "\n",
        "plt.show()"
      ],
      "metadata": {
        "id": "Jkzo38JduB_S"
      },
      "execution_count": null,
      "outputs": []
    },
    {
      "cell_type": "markdown",
      "source": [
        "### Accuracy to test data\n",
        "To understand the performance of the model, we measure the percentage of correct answers using test data."
      ],
      "metadata": {
        "id": "uQOFO2KaubyB"
      }
    },
    {
      "cell_type": "code",
      "source": [
        "label_list = []\n",
        "pred_list = []\n",
        "for data, label in test_loader:\n",
        "  data = data.to(DEVICE)\n",
        "  label = label.numpy().tolist()\n",
        "  pred = torch.argmax(net(data),axis = 1).cpu().numpy().tolist()\n",
        "  label_list += label\n",
        "  pred_list += pred\n",
        "\n",
        "print(accuracy_score(label_list, pred_list))"
      ],
      "metadata": {
        "id": "koU67E_LuuFv"
      },
      "execution_count": null,
      "outputs": []
    },
    {
      "cell_type": "markdown",
      "source": [
        "### Confusion matrix\n",
        "Confusion matrix can also be used to visualize the strengths and weaknesses of the model."
      ],
      "metadata": {
        "id": "wZ4DwxX1yMfp"
      }
    },
    {
      "cell_type": "code",
      "source": [
        "cm = confusion_matrix(label_list,pred_list)\n",
        "\n",
        "plt.rcParams[\"figure.figsize\"] = (12, 10)\n",
        "glaph = sns.heatmap(cm)\n",
        "glaph.set( xlabel = \"predict\", ylabel = \"label\",xticklabels=labels, yticklabels=labels)"
      ],
      "metadata": {
        "id": "RnUx56ApO90S"
      },
      "execution_count": null,
      "outputs": []
    },
    {
      "cell_type": "code",
      "source": [
        "plt.bar([x for x in range(10)], cm[3], width=0.5, linewidth=2, tick_label=labels)\n",
        "plt.show()"
      ],
      "metadata": {
        "id": "Fn51BEeFUg7B"
      },
      "execution_count": null,
      "outputs": []
    }
  ]
}